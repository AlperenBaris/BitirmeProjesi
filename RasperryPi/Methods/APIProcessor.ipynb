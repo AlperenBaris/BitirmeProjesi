{
 "cells": [
  {
   "cell_type": "code",
   "execution_count": null,
   "id": "16f4eb38",
   "metadata": {},
   "outputs": [
    {
     "name": "stdout",
     "output_type": "stream",
     "text": [
      "elv-xxxxx\n",
      "sk-xxxxx\n"
     ]
    }
   ],
   "source": [
    "from dotenv import load_dotenv\n",
    "from elevenlabs.client import ElevenLabs\n",
    "from elevenlabs import play\n",
    "from openai import OpenAI\n",
    "import os\n",
    "\n",
    "\n",
    "class APIProcessor:\n",
    "    def __init__(self):\n",
    "        self.openai_key = None\n",
    "        self.elevenlabs_key = None\n",
    "        self.system_prompt = None\n",
    "        self.message_history = [{\"role\": \"system\", \"content\": self.system_prompt}]\n",
    "        self.get_API_keys()\n",
    "        self.client_openai = OpenAI(api_key=self.openai_key)\n",
    "        self.client_elevenlabs = ElevenLabs(api_key=self.elevenlabs_key)\n",
    "\n",
    "    def load_prompt(self):\n",
    "        with open(\"system_prompt.txt\") as f:\n",
    "            self.system_prompt = f.read()\n",
    "        \n",
    "\n",
    "    def get_API_keys(self):\n",
    "        load_dotenv()  # .env dosyasını oku\n",
    "\n",
    "        self.openai_key = os.getenv(\"OPENAI_API_KEY\")\n",
    "        self.elevenlabs_key = os.getenv(\"ELEVENLABS_API_KEY\")\n",
    "\n",
    "    def speech(self, text):\n",
    "        audio = self.client_elevenlabs.text_to_speech.convert(\n",
    "            text=text,\n",
    "            voice_id=\"IuRRIAcbQK5AQk1XevPj\",\n",
    "            model_id=\"eleven_multilingual_v2\",\n",
    "            output_format=\"mp3_44100_128\",\n",
    "        )\n",
    "\n",
    "        play(audio)\n",
    "\n",
    "    def getJSON(self, command):\n",
    "        message = {\"role\":\"user\", \"content\": command}\n",
    "        self.message_history.append(message)\n",
    "        completion = self.client_openai.responses.create(\n",
    "        model=\"gpt-4o-mini\",\n",
    "        input= self.message_history\n",
    "        )\n",
    "        assistant_message = {\"role\":\"assistant\", \"content\": completion.output_text}\n",
    "        self.message_history.append(assistant_message)\n",
    "        return completion.output_text\n",
    "\n"
   ]
  }
 ],
 "metadata": {
  "kernelspec": {
   "display_name": "Bitirme",
   "language": "python",
   "name": "python3"
  },
  "language_info": {
   "codemirror_mode": {
    "name": "ipython",
    "version": 3
   },
   "file_extension": ".py",
   "mimetype": "text/x-python",
   "name": "python",
   "nbconvert_exporter": "python",
   "pygments_lexer": "ipython3",
   "version": "3.13.2"
  }
 },
 "nbformat": 4,
 "nbformat_minor": 5
}
