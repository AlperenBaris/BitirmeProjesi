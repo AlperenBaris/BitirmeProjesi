{
 "cells": [
  {
   "cell_type": "code",
   "execution_count": null,
   "id": "a16a78fa",
   "metadata": {},
   "outputs": [
    {
     "name": "stdout",
     "output_type": "stream",
     "text": [
      "Commands: [Command(action=forward, angle=None, distance=10, duration=None, condition={'type': 'timeout', 'limit': 5})]\n",
      "Errors: [Issue(index=0, field=distance, issue=Distance too long, suggestion=Reduce to 5)]\n",
      "Warnings: [Issue(index=0, field=condition, issue=Condition may be unreachable, suggestion=Check sensor)]\n"
     ]
    }
   ],
   "source": [
    "import json\n",
    "from typing import List, Optional, Dict, Any\n",
    "\n",
    "\n",
    "class Command:\n",
    "    def __init__(\n",
    "        self,\n",
    "        action: str,\n",
    "        angle: Optional[float],\n",
    "        distance: Optional[float],\n",
    "        duration: Optional[float],\n",
    "        condition: Optional[Dict[str, Any]]\n",
    "    ):\n",
    "        self.action = action\n",
    "        self.angle = angle\n",
    "        self.distance = distance\n",
    "        self.duration = duration\n",
    "        self.condition = condition\n",
    "\n",
    "    def __repr__(self):\n",
    "        return f\"Command(action={self.action}, angle={self.angle}, distance={self.distance}, duration={self.duration}, condition={self.condition})\"\n",
    "\n",
    "\n",
    "class Issue:\n",
    "    def __init__(self, index: int, field: str, issue: str, suggestion: str):\n",
    "        self.index = index\n",
    "        self.field = field\n",
    "        self.issue = issue\n",
    "        self.suggestion = suggestion\n",
    "\n",
    "    def __repr__(self):\n",
    "        return f\"Issue(index={self.index}, field={self.field}, issue={self.issue}, suggestion={self.suggestion})\"\n",
    "\n",
    "\n",
    "class CommandParser:\n",
    "    def __init__(self):\n",
    "        self.commands: List[Command] = []\n",
    "        self.errors: List[Issue] = []\n",
    "        self.warnings: List[Issue] = []\n",
    "\n",
    "    def parse_json(self, json_data: str):\n",
    "        try:\n",
    "            data = json.loads(json_data)\n",
    "\n",
    "            for cmd in data.get(\"commands\", []):\n",
    "                command = Command(\n",
    "                    action=cmd.get(\"action\"),\n",
    "                    angle=cmd.get(\"angle\"),\n",
    "                    distance=cmd.get(\"distance\"),\n",
    "                    duration=cmd.get(\"duration\"),\n",
    "                    condition=cmd.get(\"condition\")\n",
    "                )\n",
    "                self.commands.append(command)\n",
    "\n",
    "            for err in data.get(\"errors\", []):\n",
    "                error = Issue(\n",
    "                    index=err[\"index\"],\n",
    "                    field=err[\"field\"],\n",
    "                    issue=err[\"issue\"],\n",
    "                    suggestion=err[\"suggestion\"]\n",
    "                )\n",
    "                self.errors.append(error)\n",
    "\n",
    "            for warn in data.get(\"warnings\", []):\n",
    "                warning = Issue(\n",
    "                    index=warn[\"index\"],\n",
    "                    field=warn[\"field\"],\n",
    "                    issue=warn[\"issue\"],\n",
    "                    suggestion=warn[\"suggestion\"]\n",
    "                )\n",
    "                self.warnings.append(warning)\n",
    "\n",
    "        except json.JSONDecodeError as e:\n",
    "            print(\"Invalid JSON:\", e)"
   ]
  }
 ],
 "metadata": {
  "kernelspec": {
   "display_name": "Bitirme",
   "language": "python",
   "name": "python3"
  },
  "language_info": {
   "codemirror_mode": {
    "name": "ipython",
    "version": 3
   },
   "file_extension": ".py",
   "mimetype": "text/x-python",
   "name": "python",
   "nbconvert_exporter": "python",
   "pygments_lexer": "ipython3",
   "version": "3.13.2"
  }
 },
 "nbformat": 4,
 "nbformat_minor": 5
}
